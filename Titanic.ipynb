{
 "cells": [
  {
   "cell_type": "code",
   "execution_count": 187,
   "metadata": {
    "collapsed": true
   },
   "outputs": [],
   "source": [
    "%matplotlib inline\n",
    "import numpy as np\n",
    "import matplotlib.pyplot as plt\n",
    "import pandas as pd\n",
    "import seaborn as sns\n",
    "pd.set_option('display.width', 500)\n",
    "pd.set_option('display.max_columns', 100)\n",
    "pd.set_option('display.notebook_repr_html', True)\n",
    "sns.set_style(\"whitegrid\")\n",
    "sns.set_context(\"poster\")"
   ]
  },
  {
   "cell_type": "code",
   "execution_count": 188,
   "metadata": {},
   "outputs": [
    {
     "data": {
      "text/html": [
       "<div>\n",
       "<style>\n",
       "    .dataframe thead tr:only-child th {\n",
       "        text-align: right;\n",
       "    }\n",
       "\n",
       "    .dataframe thead th {\n",
       "        text-align: left;\n",
       "    }\n",
       "\n",
       "    .dataframe tbody tr th {\n",
       "        vertical-align: top;\n",
       "    }\n",
       "</style>\n",
       "<table border=\"1\" class=\"dataframe\">\n",
       "  <thead>\n",
       "    <tr style=\"text-align: right;\">\n",
       "      <th></th>\n",
       "      <th>PassengerId</th>\n",
       "      <th>Survived</th>\n",
       "      <th>Pclass</th>\n",
       "      <th>Name</th>\n",
       "      <th>Sex</th>\n",
       "      <th>Age</th>\n",
       "      <th>SibSp</th>\n",
       "      <th>Parch</th>\n",
       "      <th>Ticket</th>\n",
       "      <th>Fare</th>\n",
       "      <th>Cabin</th>\n",
       "      <th>Embarked</th>\n",
       "    </tr>\n",
       "  </thead>\n",
       "  <tbody>\n",
       "    <tr>\n",
       "      <th>0</th>\n",
       "      <td>1</td>\n",
       "      <td>0</td>\n",
       "      <td>3</td>\n",
       "      <td>Braund, Mr. Owen Harris</td>\n",
       "      <td>male</td>\n",
       "      <td>22.0</td>\n",
       "      <td>1</td>\n",
       "      <td>0</td>\n",
       "      <td>A/5 21171</td>\n",
       "      <td>7.2500</td>\n",
       "      <td>NaN</td>\n",
       "      <td>S</td>\n",
       "    </tr>\n",
       "    <tr>\n",
       "      <th>1</th>\n",
       "      <td>2</td>\n",
       "      <td>1</td>\n",
       "      <td>1</td>\n",
       "      <td>Cumings, Mrs. John Bradley (Florence Briggs Th...</td>\n",
       "      <td>female</td>\n",
       "      <td>38.0</td>\n",
       "      <td>1</td>\n",
       "      <td>0</td>\n",
       "      <td>PC 17599</td>\n",
       "      <td>71.2833</td>\n",
       "      <td>C85</td>\n",
       "      <td>C</td>\n",
       "    </tr>\n",
       "    <tr>\n",
       "      <th>2</th>\n",
       "      <td>3</td>\n",
       "      <td>1</td>\n",
       "      <td>3</td>\n",
       "      <td>Heikkinen, Miss. Laina</td>\n",
       "      <td>female</td>\n",
       "      <td>26.0</td>\n",
       "      <td>0</td>\n",
       "      <td>0</td>\n",
       "      <td>STON/O2. 3101282</td>\n",
       "      <td>7.9250</td>\n",
       "      <td>NaN</td>\n",
       "      <td>S</td>\n",
       "    </tr>\n",
       "    <tr>\n",
       "      <th>3</th>\n",
       "      <td>4</td>\n",
       "      <td>1</td>\n",
       "      <td>1</td>\n",
       "      <td>Futrelle, Mrs. Jacques Heath (Lily May Peel)</td>\n",
       "      <td>female</td>\n",
       "      <td>35.0</td>\n",
       "      <td>1</td>\n",
       "      <td>0</td>\n",
       "      <td>113803</td>\n",
       "      <td>53.1000</td>\n",
       "      <td>C123</td>\n",
       "      <td>S</td>\n",
       "    </tr>\n",
       "    <tr>\n",
       "      <th>4</th>\n",
       "      <td>5</td>\n",
       "      <td>0</td>\n",
       "      <td>3</td>\n",
       "      <td>Allen, Mr. William Henry</td>\n",
       "      <td>male</td>\n",
       "      <td>35.0</td>\n",
       "      <td>0</td>\n",
       "      <td>0</td>\n",
       "      <td>373450</td>\n",
       "      <td>8.0500</td>\n",
       "      <td>NaN</td>\n",
       "      <td>S</td>\n",
       "    </tr>\n",
       "  </tbody>\n",
       "</table>\n",
       "</div>"
      ],
      "text/plain": [
       "   PassengerId  Survived  Pclass                                               Name     Sex   Age  SibSp  Parch            Ticket     Fare Cabin Embarked\n",
       "0            1         0       3                            Braund, Mr. Owen Harris    male  22.0      1      0         A/5 21171   7.2500   NaN        S\n",
       "1            2         1       1  Cumings, Mrs. John Bradley (Florence Briggs Th...  female  38.0      1      0          PC 17599  71.2833   C85        C\n",
       "2            3         1       3                             Heikkinen, Miss. Laina  female  26.0      0      0  STON/O2. 3101282   7.9250   NaN        S\n",
       "3            4         1       1       Futrelle, Mrs. Jacques Heath (Lily May Peel)  female  35.0      1      0            113803  53.1000  C123        S\n",
       "4            5         0       3                           Allen, Mr. William Henry    male  35.0      0      0            373450   8.0500   NaN        S"
      ]
     },
     "execution_count": 188,
     "metadata": {},
     "output_type": "execute_result"
    }
   ],
   "source": [
    "df = pd.read_csv(\"train.csv\")\n",
    "df.head()"
   ]
  },
  {
   "cell_type": "code",
   "execution_count": 189,
   "metadata": {},
   "outputs": [
    {
     "data": {
      "text/html": [
       "<div>\n",
       "<style>\n",
       "    .dataframe thead tr:only-child th {\n",
       "        text-align: right;\n",
       "    }\n",
       "\n",
       "    .dataframe thead th {\n",
       "        text-align: left;\n",
       "    }\n",
       "\n",
       "    .dataframe tbody tr th {\n",
       "        vertical-align: top;\n",
       "    }\n",
       "</style>\n",
       "<table border=\"1\" class=\"dataframe\">\n",
       "  <thead>\n",
       "    <tr style=\"text-align: right;\">\n",
       "      <th></th>\n",
       "      <th>PassengerId</th>\n",
       "      <th>Survived</th>\n",
       "      <th>Pclass</th>\n",
       "      <th>Age</th>\n",
       "      <th>SibSp</th>\n",
       "      <th>Parch</th>\n",
       "      <th>Fare</th>\n",
       "    </tr>\n",
       "  </thead>\n",
       "  <tbody>\n",
       "    <tr>\n",
       "      <th>count</th>\n",
       "      <td>891.000000</td>\n",
       "      <td>891.000000</td>\n",
       "      <td>891.000000</td>\n",
       "      <td>714.000000</td>\n",
       "      <td>891.000000</td>\n",
       "      <td>891.000000</td>\n",
       "      <td>891.000000</td>\n",
       "    </tr>\n",
       "    <tr>\n",
       "      <th>mean</th>\n",
       "      <td>446.000000</td>\n",
       "      <td>0.383838</td>\n",
       "      <td>2.308642</td>\n",
       "      <td>29.699118</td>\n",
       "      <td>0.523008</td>\n",
       "      <td>0.381594</td>\n",
       "      <td>32.204208</td>\n",
       "    </tr>\n",
       "    <tr>\n",
       "      <th>std</th>\n",
       "      <td>257.353842</td>\n",
       "      <td>0.486592</td>\n",
       "      <td>0.836071</td>\n",
       "      <td>14.526497</td>\n",
       "      <td>1.102743</td>\n",
       "      <td>0.806057</td>\n",
       "      <td>49.693429</td>\n",
       "    </tr>\n",
       "    <tr>\n",
       "      <th>min</th>\n",
       "      <td>1.000000</td>\n",
       "      <td>0.000000</td>\n",
       "      <td>1.000000</td>\n",
       "      <td>0.420000</td>\n",
       "      <td>0.000000</td>\n",
       "      <td>0.000000</td>\n",
       "      <td>0.000000</td>\n",
       "    </tr>\n",
       "    <tr>\n",
       "      <th>25%</th>\n",
       "      <td>223.500000</td>\n",
       "      <td>0.000000</td>\n",
       "      <td>2.000000</td>\n",
       "      <td>20.125000</td>\n",
       "      <td>0.000000</td>\n",
       "      <td>0.000000</td>\n",
       "      <td>7.910400</td>\n",
       "    </tr>\n",
       "    <tr>\n",
       "      <th>50%</th>\n",
       "      <td>446.000000</td>\n",
       "      <td>0.000000</td>\n",
       "      <td>3.000000</td>\n",
       "      <td>28.000000</td>\n",
       "      <td>0.000000</td>\n",
       "      <td>0.000000</td>\n",
       "      <td>14.454200</td>\n",
       "    </tr>\n",
       "    <tr>\n",
       "      <th>75%</th>\n",
       "      <td>668.500000</td>\n",
       "      <td>1.000000</td>\n",
       "      <td>3.000000</td>\n",
       "      <td>38.000000</td>\n",
       "      <td>1.000000</td>\n",
       "      <td>0.000000</td>\n",
       "      <td>31.000000</td>\n",
       "    </tr>\n",
       "    <tr>\n",
       "      <th>max</th>\n",
       "      <td>891.000000</td>\n",
       "      <td>1.000000</td>\n",
       "      <td>3.000000</td>\n",
       "      <td>80.000000</td>\n",
       "      <td>8.000000</td>\n",
       "      <td>6.000000</td>\n",
       "      <td>512.329200</td>\n",
       "    </tr>\n",
       "  </tbody>\n",
       "</table>\n",
       "</div>"
      ],
      "text/plain": [
       "       PassengerId    Survived      Pclass         Age       SibSp       Parch        Fare\n",
       "count   891.000000  891.000000  891.000000  714.000000  891.000000  891.000000  891.000000\n",
       "mean    446.000000    0.383838    2.308642   29.699118    0.523008    0.381594   32.204208\n",
       "std     257.353842    0.486592    0.836071   14.526497    1.102743    0.806057   49.693429\n",
       "min       1.000000    0.000000    1.000000    0.420000    0.000000    0.000000    0.000000\n",
       "25%     223.500000    0.000000    2.000000   20.125000    0.000000    0.000000    7.910400\n",
       "50%     446.000000    0.000000    3.000000   28.000000    0.000000    0.000000   14.454200\n",
       "75%     668.500000    1.000000    3.000000   38.000000    1.000000    0.000000   31.000000\n",
       "max     891.000000    1.000000    3.000000   80.000000    8.000000    6.000000  512.329200"
      ]
     },
     "execution_count": 189,
     "metadata": {},
     "output_type": "execute_result"
    }
   ],
   "source": [
    "df.describe()"
   ]
  },
  {
   "cell_type": "code",
   "execution_count": 190,
   "metadata": {},
   "outputs": [
    {
     "data": {
      "text/plain": [
       "PassengerId      int64\n",
       "Survived         int64\n",
       "Pclass           int64\n",
       "Name            object\n",
       "Sex             object\n",
       "Age            float64\n",
       "SibSp            int64\n",
       "Parch            int64\n",
       "Ticket          object\n",
       "Fare           float64\n",
       "Cabin           object\n",
       "Embarked        object\n",
       "dtype: object"
      ]
     },
     "execution_count": 190,
     "metadata": {},
     "output_type": "execute_result"
    }
   ],
   "source": [
    "df.dtypes"
   ]
  },
  {
   "cell_type": "code",
   "execution_count": 191,
   "metadata": {},
   "outputs": [
    {
     "data": {
      "text/plain": [
       "PassengerId      0\n",
       "Survived         0\n",
       "Pclass           0\n",
       "Name             0\n",
       "Sex              0\n",
       "Age            177\n",
       "SibSp            0\n",
       "Parch            0\n",
       "Ticket           0\n",
       "Fare             0\n",
       "Cabin          687\n",
       "Embarked         2\n",
       "dtype: int64"
      ]
     },
     "execution_count": 191,
     "metadata": {},
     "output_type": "execute_result"
    }
   ],
   "source": [
    "df.isnull().sum()"
   ]
  },
  {
   "cell_type": "code",
   "execution_count": 192,
   "metadata": {},
   "outputs": [
    {
     "data": {
      "text/html": [
       "<div>\n",
       "<style>\n",
       "    .dataframe thead tr:only-child th {\n",
       "        text-align: right;\n",
       "    }\n",
       "\n",
       "    .dataframe thead th {\n",
       "        text-align: left;\n",
       "    }\n",
       "\n",
       "    .dataframe tbody tr th {\n",
       "        vertical-align: top;\n",
       "    }\n",
       "</style>\n",
       "<table border=\"1\" class=\"dataframe\">\n",
       "  <thead>\n",
       "    <tr style=\"text-align: right;\">\n",
       "      <th></th>\n",
       "      <th>PassengerId</th>\n",
       "      <th>Pclass</th>\n",
       "      <th>Name</th>\n",
       "      <th>Sex</th>\n",
       "      <th>Age</th>\n",
       "      <th>SibSp</th>\n",
       "      <th>Parch</th>\n",
       "      <th>Ticket</th>\n",
       "      <th>Fare</th>\n",
       "      <th>Cabin</th>\n",
       "      <th>Embarked</th>\n",
       "    </tr>\n",
       "  </thead>\n",
       "  <tbody>\n",
       "    <tr>\n",
       "      <th>0</th>\n",
       "      <td>892</td>\n",
       "      <td>3</td>\n",
       "      <td>Kelly, Mr. James</td>\n",
       "      <td>male</td>\n",
       "      <td>34.5</td>\n",
       "      <td>0</td>\n",
       "      <td>0</td>\n",
       "      <td>330911</td>\n",
       "      <td>7.8292</td>\n",
       "      <td>NaN</td>\n",
       "      <td>Q</td>\n",
       "    </tr>\n",
       "    <tr>\n",
       "      <th>1</th>\n",
       "      <td>893</td>\n",
       "      <td>3</td>\n",
       "      <td>Wilkes, Mrs. James (Ellen Needs)</td>\n",
       "      <td>female</td>\n",
       "      <td>47.0</td>\n",
       "      <td>1</td>\n",
       "      <td>0</td>\n",
       "      <td>363272</td>\n",
       "      <td>7.0000</td>\n",
       "      <td>NaN</td>\n",
       "      <td>S</td>\n",
       "    </tr>\n",
       "    <tr>\n",
       "      <th>2</th>\n",
       "      <td>894</td>\n",
       "      <td>2</td>\n",
       "      <td>Myles, Mr. Thomas Francis</td>\n",
       "      <td>male</td>\n",
       "      <td>62.0</td>\n",
       "      <td>0</td>\n",
       "      <td>0</td>\n",
       "      <td>240276</td>\n",
       "      <td>9.6875</td>\n",
       "      <td>NaN</td>\n",
       "      <td>Q</td>\n",
       "    </tr>\n",
       "    <tr>\n",
       "      <th>3</th>\n",
       "      <td>895</td>\n",
       "      <td>3</td>\n",
       "      <td>Wirz, Mr. Albert</td>\n",
       "      <td>male</td>\n",
       "      <td>27.0</td>\n",
       "      <td>0</td>\n",
       "      <td>0</td>\n",
       "      <td>315154</td>\n",
       "      <td>8.6625</td>\n",
       "      <td>NaN</td>\n",
       "      <td>S</td>\n",
       "    </tr>\n",
       "    <tr>\n",
       "      <th>4</th>\n",
       "      <td>896</td>\n",
       "      <td>3</td>\n",
       "      <td>Hirvonen, Mrs. Alexander (Helga E Lindqvist)</td>\n",
       "      <td>female</td>\n",
       "      <td>22.0</td>\n",
       "      <td>1</td>\n",
       "      <td>1</td>\n",
       "      <td>3101298</td>\n",
       "      <td>12.2875</td>\n",
       "      <td>NaN</td>\n",
       "      <td>S</td>\n",
       "    </tr>\n",
       "  </tbody>\n",
       "</table>\n",
       "</div>"
      ],
      "text/plain": [
       "   PassengerId  Pclass                                          Name     Sex   Age  SibSp  Parch   Ticket     Fare Cabin Embarked\n",
       "0          892       3                              Kelly, Mr. James    male  34.5      0      0   330911   7.8292   NaN        Q\n",
       "1          893       3              Wilkes, Mrs. James (Ellen Needs)  female  47.0      1      0   363272   7.0000   NaN        S\n",
       "2          894       2                     Myles, Mr. Thomas Francis    male  62.0      0      0   240276   9.6875   NaN        Q\n",
       "3          895       3                              Wirz, Mr. Albert    male  27.0      0      0   315154   8.6625   NaN        S\n",
       "4          896       3  Hirvonen, Mrs. Alexander (Helga E Lindqvist)  female  22.0      1      1  3101298  12.2875   NaN        S"
      ]
     },
     "execution_count": 192,
     "metadata": {},
     "output_type": "execute_result"
    }
   ],
   "source": [
    "test = pd.read_csv(\"test.csv\")\n",
    "test.head()"
   ]
  },
  {
   "cell_type": "code",
   "execution_count": 193,
   "metadata": {},
   "outputs": [
    {
     "data": {
      "text/plain": [
       "PassengerId      0\n",
       "Pclass           0\n",
       "Name             0\n",
       "Sex              0\n",
       "Age             86\n",
       "SibSp            0\n",
       "Parch            0\n",
       "Ticket           0\n",
       "Fare             1\n",
       "Cabin          327\n",
       "Embarked         0\n",
       "dtype: int64"
      ]
     },
     "execution_count": 193,
     "metadata": {},
     "output_type": "execute_result"
    }
   ],
   "source": [
    "test.isnull().sum()"
   ]
  },
  {
   "cell_type": "code",
   "execution_count": 194,
   "metadata": {},
   "outputs": [
    {
     "data": {
      "text/html": [
       "<div>\n",
       "<style>\n",
       "    .dataframe thead tr:only-child th {\n",
       "        text-align: right;\n",
       "    }\n",
       "\n",
       "    .dataframe thead th {\n",
       "        text-align: left;\n",
       "    }\n",
       "\n",
       "    .dataframe tbody tr th {\n",
       "        vertical-align: top;\n",
       "    }\n",
       "</style>\n",
       "<table border=\"1\" class=\"dataframe\">\n",
       "  <thead>\n",
       "    <tr style=\"text-align: right;\">\n",
       "      <th></th>\n",
       "      <th>PassengerId</th>\n",
       "      <th>Pclass</th>\n",
       "      <th>Age</th>\n",
       "      <th>SibSp</th>\n",
       "      <th>Parch</th>\n",
       "      <th>Fare</th>\n",
       "    </tr>\n",
       "  </thead>\n",
       "  <tbody>\n",
       "    <tr>\n",
       "      <th>count</th>\n",
       "      <td>418.000000</td>\n",
       "      <td>418.000000</td>\n",
       "      <td>332.000000</td>\n",
       "      <td>418.000000</td>\n",
       "      <td>418.000000</td>\n",
       "      <td>417.000000</td>\n",
       "    </tr>\n",
       "    <tr>\n",
       "      <th>mean</th>\n",
       "      <td>1100.500000</td>\n",
       "      <td>2.265550</td>\n",
       "      <td>30.272590</td>\n",
       "      <td>0.447368</td>\n",
       "      <td>0.392344</td>\n",
       "      <td>35.627188</td>\n",
       "    </tr>\n",
       "    <tr>\n",
       "      <th>std</th>\n",
       "      <td>120.810458</td>\n",
       "      <td>0.841838</td>\n",
       "      <td>14.181209</td>\n",
       "      <td>0.896760</td>\n",
       "      <td>0.981429</td>\n",
       "      <td>55.907576</td>\n",
       "    </tr>\n",
       "    <tr>\n",
       "      <th>min</th>\n",
       "      <td>892.000000</td>\n",
       "      <td>1.000000</td>\n",
       "      <td>0.170000</td>\n",
       "      <td>0.000000</td>\n",
       "      <td>0.000000</td>\n",
       "      <td>0.000000</td>\n",
       "    </tr>\n",
       "    <tr>\n",
       "      <th>25%</th>\n",
       "      <td>996.250000</td>\n",
       "      <td>1.000000</td>\n",
       "      <td>21.000000</td>\n",
       "      <td>0.000000</td>\n",
       "      <td>0.000000</td>\n",
       "      <td>7.895800</td>\n",
       "    </tr>\n",
       "    <tr>\n",
       "      <th>50%</th>\n",
       "      <td>1100.500000</td>\n",
       "      <td>3.000000</td>\n",
       "      <td>27.000000</td>\n",
       "      <td>0.000000</td>\n",
       "      <td>0.000000</td>\n",
       "      <td>14.454200</td>\n",
       "    </tr>\n",
       "    <tr>\n",
       "      <th>75%</th>\n",
       "      <td>1204.750000</td>\n",
       "      <td>3.000000</td>\n",
       "      <td>39.000000</td>\n",
       "      <td>1.000000</td>\n",
       "      <td>0.000000</td>\n",
       "      <td>31.500000</td>\n",
       "    </tr>\n",
       "    <tr>\n",
       "      <th>max</th>\n",
       "      <td>1309.000000</td>\n",
       "      <td>3.000000</td>\n",
       "      <td>76.000000</td>\n",
       "      <td>8.000000</td>\n",
       "      <td>9.000000</td>\n",
       "      <td>512.329200</td>\n",
       "    </tr>\n",
       "  </tbody>\n",
       "</table>\n",
       "</div>"
      ],
      "text/plain": [
       "       PassengerId      Pclass         Age       SibSp       Parch        Fare\n",
       "count   418.000000  418.000000  332.000000  418.000000  418.000000  417.000000\n",
       "mean   1100.500000    2.265550   30.272590    0.447368    0.392344   35.627188\n",
       "std     120.810458    0.841838   14.181209    0.896760    0.981429   55.907576\n",
       "min     892.000000    1.000000    0.170000    0.000000    0.000000    0.000000\n",
       "25%     996.250000    1.000000   21.000000    0.000000    0.000000    7.895800\n",
       "50%    1100.500000    3.000000   27.000000    0.000000    0.000000   14.454200\n",
       "75%    1204.750000    3.000000   39.000000    1.000000    0.000000   31.500000\n",
       "max    1309.000000    3.000000   76.000000    8.000000    9.000000  512.329200"
      ]
     },
     "execution_count": 194,
     "metadata": {},
     "output_type": "execute_result"
    }
   ],
   "source": [
    "test.describe()"
   ]
  },
  {
   "cell_type": "code",
   "execution_count": 195,
   "metadata": {
    "collapsed": true
   },
   "outputs": [],
   "source": [
    "df.drop(axis=1, labels= \"Cabin\", inplace= True)\n",
    "test.drop(axis=1, labels = \"Cabin\", inplace = True)"
   ]
  },
  {
   "cell_type": "code",
   "execution_count": 196,
   "metadata": {},
   "outputs": [
    {
     "data": {
      "text/plain": [
       "1046"
      ]
     },
     "execution_count": 196,
     "metadata": {},
     "output_type": "execute_result"
    }
   ],
   "source": [
    "age_df = pd.Series(df.Age)\n",
    "age_test = pd.Series(test.Age)\n",
    "age = pd.concat([age_df, age_test])\n",
    "age = age.dropna()\n",
    "len(age)"
   ]
  },
  {
   "cell_type": "code",
   "execution_count": 197,
   "metadata": {},
   "outputs": [
    {
     "data": {
      "image/png": "[encoded data removed]",
      "text/plain": [
       "<matplotlib.figure.Figure at 0x1806191c5f8>"
      ]
     },
     "metadata": {},
     "output_type": "display_data"
    }
   ],
   "source": [
    "plt.hist(age, rwidth=0.8, bins = 50, normed=True)\n",
    "sns.kdeplot(age)\n",
    "plt.show()"
   ]
  },
  {
   "cell_type": "code",
   "execution_count": 198,
   "metadata": {},
   "outputs": [
    {
     "name": "stdout",
     "output_type": "stream",
     "text": [
      "mean_Age = 29.881138, median_Age = 28.000000, Mode_Age= 24.000000 \n"
     ]
    }
   ],
   "source": [
    "print(\"mean_Age = {:f}, median_Age = {:f}, Mode_Age= {:f} \".format(age.mean(), age.median(), age.mode()[0])) "
   ]
  },
  {
   "cell_type": "code",
   "execution_count": 199,
   "metadata": {
    "collapsed": true
   },
   "outputs": [],
   "source": [
    "df.Age.fillna(inplace=True, value = 24)\n",
    "test.Age.fillna(inplace=True, value = 24)"
   ]
  },
  {
   "cell_type": "code",
   "execution_count": 200,
   "metadata": {},
   "outputs": [
    {
     "name": "stdout",
     "output_type": "stream",
     "text": [
      "S\n",
      "S\n"
     ]
    }
   ],
   "source": [
    "print(df.Embarked.mode()[0])\n",
    "print(test.Embarked.mode()[0])"
   ]
  },
  {
   "cell_type": "code",
   "execution_count": 201,
   "metadata": {},
   "outputs": [
    {
     "data": {
      "text/plain": [
       "PassengerId    0\n",
       "Survived       0\n",
       "Pclass         0\n",
       "Name           0\n",
       "Sex            0\n",
       "Age            0\n",
       "SibSp          0\n",
       "Parch          0\n",
       "Ticket         0\n",
       "Fare           0\n",
       "Embarked       0\n",
       "dtype: int64"
      ]
     },
     "execution_count": 201,
     "metadata": {},
     "output_type": "execute_result"
    }
   ],
   "source": [
    "df.Embarked.fillna(value=\"S\", inplace=True)\n",
    "test.Embarked.fillna(value=\"S\", inplace=True)\n",
    "df.isnull().sum()"
   ]
  },
  {
   "cell_type": "code",
   "execution_count": 202,
   "metadata": {},
   "outputs": [
    {
     "data": {
      "text/plain": [
       "PassengerId    0\n",
       "Pclass         0\n",
       "Name           0\n",
       "Sex            0\n",
       "Age            0\n",
       "SibSp          0\n",
       "Parch          0\n",
       "Ticket         0\n",
       "Fare           1\n",
       "Embarked       0\n",
       "dtype: int64"
      ]
     },
     "execution_count": 202,
     "metadata": {},
     "output_type": "execute_result"
    }
   ],
   "source": [
    "test.isnull().sum()"
   ]
  },
  {
   "cell_type": "code",
   "execution_count": 336,
   "metadata": {},
   "outputs": [
    {
     "data": {
      "text/html": [
       "<div>\n",
       "<style>\n",
       "    .dataframe thead tr:only-child th {\n",
       "        text-align: right;\n",
       "    }\n",
       "\n",
       "    .dataframe thead th {\n",
       "        text-align: left;\n",
       "    }\n",
       "\n",
       "    .dataframe tbody tr th {\n",
       "        vertical-align: top;\n",
       "    }\n",
       "</style>\n",
       "<table border=\"1\" class=\"dataframe\">\n",
       "  <thead>\n",
       "    <tr style=\"text-align: right;\">\n",
       "      <th></th>\n",
       "      <th>Pclass</th>\n",
       "      <th>Age</th>\n",
       "      <th>SibSp</th>\n",
       "      <th>Parch</th>\n",
       "      <th>Fare</th>\n",
       "      <th>Sex_female</th>\n",
       "      <th>Sex_male</th>\n",
       "      <th>Embarked_C</th>\n",
       "      <th>Embarked_Q</th>\n",
       "      <th>Embarked_S</th>\n",
       "    </tr>\n",
       "  </thead>\n",
       "  <tbody>\n",
       "    <tr>\n",
       "      <th>152</th>\n",
       "      <td>3</td>\n",
       "      <td>60.5</td>\n",
       "      <td>0</td>\n",
       "      <td>0</td>\n",
       "      <td>NaN</td>\n",
       "      <td>0</td>\n",
       "      <td>1</td>\n",
       "      <td>0</td>\n",
       "      <td>0</td>\n",
       "      <td>1</td>\n",
       "    </tr>\n",
       "  </tbody>\n",
       "</table>\n",
       "</div>"
      ],
      "text/plain": [
       "     Pclass   Age  SibSp  Parch  Fare  Sex_female  Sex_male  Embarked_C  Embarked_Q  Embarked_S\n",
       "152       3  60.5      0      0   NaN           0         1           0           0           1"
      ]
     },
     "execution_count": 336,
     "metadata": {},
     "output_type": "execute_result"
    }
   ],
   "source": [
    "test[test.Fare.isnull()]"
   ]
  },
  {
   "cell_type": "code",
   "execution_count": 349,
   "metadata": {},
   "outputs": [],
   "source": [
    "full = pd.concat([df, test])\n",
    "full[\"Ticket_header\"] = full.Ticket.str.extract(\"([a-zA-Z0-9]{3})\", expand=False)"
   ]
  },
  {
   "cell_type": "code",
   "execution_count": 350,
   "metadata": {},
   "outputs": [
    {
     "data": {
      "text/plain": [
       "11.764583333333334"
      ]
     },
     "execution_count": 350,
     "metadata": {},
     "output_type": "execute_result"
    }
   ],
   "source": [
    "full[full.Ticket_header ==\"370\"]['Fare'].mean()"
   ]
  },
  {
   "cell_type": "code",
   "execution_count": null,
   "metadata": {
    "collapsed": true
   },
   "outputs": [],
   "source": []
  },
  {
   "cell_type": "code",
   "execution_count": null,
   "metadata": {
    "collapsed": true
   },
   "outputs": [],
   "source": []
  },
  {
   "cell_type": "code",
   "execution_count": 204,
   "metadata": {},
   "outputs": [
    {
     "data": {
      "image/png": "[encoded data removed]",
      "text/plain": [
       "<matplotlib.figure.Figure at 0x18061992278>"
      ]
     },
     "metadata": {},
     "output_type": "display_data"
    }
   ],
   "source": [
    "sns.set()\n",
    "g1 = sns.FacetGrid(data= df, col=\"Survived\", row = \"Sex\", margin_titles=True )\n",
    "g1.map(plt.hist, \"Age\")\n",
    "plt.show()"
   ]
  },
  {
   "cell_type": "code",
   "execution_count": 205,
   "metadata": {},
   "outputs": [
    {
     "data": {
      "image/png": "[encoded data removed]",
      "text/plain": [
       "<matplotlib.figure.Figure at 0x18061cb9ef0>"
      ]
     },
     "metadata": {},
     "output_type": "display_data"
    }
   ],
   "source": [
    "g2 = sns.FacetGrid(data= df, col=\"Survived\", row = \"Sex\", margin_titles=True )\n",
    "g2.map(plt.hist, \"Pclass\")\n",
    "plt.show()"
   ]
  },
  {
   "cell_type": "code",
   "execution_count": 206,
   "metadata": {},
   "outputs": [
    {
     "data": {
      "image/png": "[encoded data removed]",
      "text/plain": [
       "<matplotlib.figure.Figure at 0x18061982780>"
      ]
     },
     "metadata": {},
     "output_type": "display_data"
    }
   ],
   "source": [
    "sns.barplot(x='Pclass', y='Survived', data=df);"
   ]
  },
  {
   "cell_type": "code",
   "execution_count": 207,
   "metadata": {},
   "outputs": [
    {
     "data": {
      "image/png": "[encoded data removed]",
      "text/plain": [
       "<matplotlib.figure.Figure at 0x1806191af98>"
      ]
     },
     "metadata": {},
     "output_type": "display_data"
    }
   ],
   "source": [
    "g3 = sns.FacetGrid(data= df, col=\"Embarked\", row = \"Sex\", margin_titles=True )\n",
    "g3.map(sns.pointplot, \"Pclass\", \"Survived\")\n",
    "plt.show()"
   ]
  },
  {
   "cell_type": "code",
   "execution_count": 208,
   "metadata": {},
   "outputs": [
    {
     "data": {
      "image/png": "[encoded data removed]",
      "text/plain": [
       "<matplotlib.figure.Figure at 0x18061702710>"
      ]
     },
     "metadata": {},
     "output_type": "display_data"
    }
   ],
   "source": [
    "g4 = sns.FacetGrid(data= df, col=\"Embarked\", margin_titles=True )\n",
    "g4.map(sns.pointplot, \"Pclass\", \"Survived\", capsize = 0.1)\n",
    "plt.show()"
   ]
  },
  {
   "cell_type": "code",
   "execution_count": 209,
   "metadata": {},
   "outputs": [
    {
     "data": {
      "image/png": "[encoded data removed]",
      "text/plain": [
       "<matplotlib.figure.Figure at 0x18061e6bdd8>"
      ]
     },
     "metadata": {},
     "output_type": "display_data"
    }
   ],
   "source": [
    "sns.factorplot(\"SibSp\", \"Survived\", data= df, aspect = 2.5, capsize= 0.1);"
   ]
  },
  {
   "cell_type": "code",
   "execution_count": 210,
   "metadata": {},
   "outputs": [
    {
     "data": {
      "image/png": "[encoded data removed]",
      "text/plain": [
       "<matplotlib.figure.Figure at 0x18060ac6278>"
      ]
     },
     "metadata": {},
     "output_type": "display_data"
    }
   ],
   "source": [
    "sns.factorplot(\"Parch\", \"Survived\", data = df, aspect = 2.5, capsize = 0.1);"
   ]
  },
  {
   "cell_type": "code",
   "execution_count": 211,
   "metadata": {},
   "outputs": [
    {
     "data": {
      "text/plain": [
       "'\\ncategorical_df = df.select_dtypes(include= [object])\\ncategorical_df = categorical_df[[\"Sex\",\"Embarked\"]]\\n\\nfrom sklearn import preprocessing\\n\\nle = preprocessing.LabelEncoder()\\ncategorical_df2 = categorical_df.apply(le.fit_transform)\\n\\nenc = preprocessing.OneHotEncoder()\\nenc.fit(categorical_df2)\\ncategorical_ohl = enc.transform(categorical_df2).toarray()\\nprint(categorical_ohl[:5])\\n'"
      ]
     },
     "execution_count": 211,
     "metadata": {},
     "output_type": "execute_result"
    }
   ],
   "source": [
    "# If you want to use One Hot Encoding, I am using get dummies function of pandas\n",
    "'''\n",
    "categorical_df = df.select_dtypes(include= [object])\n",
    "categorical_df = categorical_df[[\"Sex\",\"Embarked\"]]\n",
    "\n",
    "from sklearn import preprocessing\n",
    "\n",
    "le = preprocessing.LabelEncoder()\n",
    "categorical_df2 = categorical_df.apply(le.fit_transform)\n",
    "\n",
    "enc = preprocessing.OneHotEncoder()\n",
    "enc.fit(categorical_df2)\n",
    "categorical_ohl = enc.transform(categorical_df2).toarray()\n",
    "print(categorical_ohl[:5])\n",
    "'''"
   ]
  },
  {
   "cell_type": "code",
   "execution_count": 212,
   "metadata": {},
   "outputs": [
    {
     "data": {
      "text/html": [
       "<div>\n",
       "<style>\n",
       "    .dataframe thead tr:only-child th {\n",
       "        text-align: right;\n",
       "    }\n",
       "\n",
       "    .dataframe thead th {\n",
       "        text-align: left;\n",
       "    }\n",
       "\n",
       "    .dataframe tbody tr th {\n",
       "        vertical-align: top;\n",
       "    }\n",
       "</style>\n",
       "<table border=\"1\" class=\"dataframe\">\n",
       "  <thead>\n",
       "    <tr style=\"text-align: right;\">\n",
       "      <th></th>\n",
       "      <th>PassengerId</th>\n",
       "      <th>Survived</th>\n",
       "      <th>Pclass</th>\n",
       "      <th>Name</th>\n",
       "      <th>Age</th>\n",
       "      <th>SibSp</th>\n",
       "      <th>Parch</th>\n",
       "      <th>Ticket</th>\n",
       "      <th>Fare</th>\n",
       "      <th>Sex_female</th>\n",
       "      <th>Sex_male</th>\n",
       "      <th>Embarked_C</th>\n",
       "      <th>Embarked_Q</th>\n",
       "      <th>Embarked_S</th>\n",
       "    </tr>\n",
       "  </thead>\n",
       "  <tbody>\n",
       "    <tr>\n",
       "      <th>0</th>\n",
       "      <td>1</td>\n",
       "      <td>0</td>\n",
       "      <td>3</td>\n",
       "      <td>Braund, Mr. Owen Harris</td>\n",
       "      <td>22.0</td>\n",
       "      <td>1</td>\n",
       "      <td>0</td>\n",
       "      <td>A/5 21171</td>\n",
       "      <td>7.2500</td>\n",
       "      <td>0</td>\n",
       "      <td>1</td>\n",
       "      <td>0</td>\n",
       "      <td>0</td>\n",
       "      <td>1</td>\n",
       "    </tr>\n",
       "    <tr>\n",
       "      <th>1</th>\n",
       "      <td>2</td>\n",
       "      <td>1</td>\n",
       "      <td>1</td>\n",
       "      <td>Cumings, Mrs. John Bradley (Florence Briggs Th...</td>\n",
       "      <td>38.0</td>\n",
       "      <td>1</td>\n",
       "      <td>0</td>\n",
       "      <td>PC 17599</td>\n",
       "      <td>71.2833</td>\n",
       "      <td>1</td>\n",
       "      <td>0</td>\n",
       "      <td>1</td>\n",
       "      <td>0</td>\n",
       "      <td>0</td>\n",
       "    </tr>\n",
       "    <tr>\n",
       "      <th>2</th>\n",
       "      <td>3</td>\n",
       "      <td>1</td>\n",
       "      <td>3</td>\n",
       "      <td>Heikkinen, Miss. Laina</td>\n",
       "      <td>26.0</td>\n",
       "      <td>0</td>\n",
       "      <td>0</td>\n",
       "      <td>STON/O2. 3101282</td>\n",
       "      <td>7.9250</td>\n",
       "      <td>1</td>\n",
       "      <td>0</td>\n",
       "      <td>0</td>\n",
       "      <td>0</td>\n",
       "      <td>1</td>\n",
       "    </tr>\n",
       "    <tr>\n",
       "      <th>3</th>\n",
       "      <td>4</td>\n",
       "      <td>1</td>\n",
       "      <td>1</td>\n",
       "      <td>Futrelle, Mrs. Jacques Heath (Lily May Peel)</td>\n",
       "      <td>35.0</td>\n",
       "      <td>1</td>\n",
       "      <td>0</td>\n",
       "      <td>113803</td>\n",
       "      <td>53.1000</td>\n",
       "      <td>1</td>\n",
       "      <td>0</td>\n",
       "      <td>0</td>\n",
       "      <td>0</td>\n",
       "      <td>1</td>\n",
       "    </tr>\n",
       "    <tr>\n",
       "      <th>4</th>\n",
       "      <td>5</td>\n",
       "      <td>0</td>\n",
       "      <td>3</td>\n",
       "      <td>Allen, Mr. William Henry</td>\n",
       "      <td>35.0</td>\n",
       "      <td>0</td>\n",
       "      <td>0</td>\n",
       "      <td>373450</td>\n",
       "      <td>8.0500</td>\n",
       "      <td>0</td>\n",
       "      <td>1</td>\n",
       "      <td>0</td>\n",
       "      <td>0</td>\n",
       "      <td>1</td>\n",
       "    </tr>\n",
       "  </tbody>\n",
       "</table>\n",
       "</div>"
      ],
      "text/plain": [
       "   PassengerId  Survived  Pclass                                               Name   Age  SibSp  Parch            Ticket     Fare  Sex_female  Sex_male  Embarked_C  Embarked_Q  Embarked_S\n",
       "0            1         0       3                            Braund, Mr. Owen Harris  22.0      1      0         A/5 21171   7.2500           0         1           0           0           1\n",
       "1            2         1       1  Cumings, Mrs. John Bradley (Florence Briggs Th...  38.0      1      0          PC 17599  71.2833           1         0           1           0           0\n",
       "2            3         1       3                             Heikkinen, Miss. Laina  26.0      0      0  STON/O2. 3101282   7.9250           1         0           0           0           1\n",
       "3            4         1       1       Futrelle, Mrs. Jacques Heath (Lily May Peel)  35.0      1      0            113803  53.1000           1         0           0           0           1\n",
       "4            5         0       3                           Allen, Mr. William Henry  35.0      0      0            373450   8.0500           0         1           0           0           1"
      ]
     },
     "execution_count": 212,
     "metadata": {},
     "output_type": "execute_result"
    }
   ],
   "source": [
    "df= pd.get_dummies(df, columns=['Sex', 'Embarked'])\n",
    "df.head()"
   ]
  },
  {
   "cell_type": "code",
   "execution_count": 213,
   "metadata": {
    "collapsed": true
   },
   "outputs": [],
   "source": [
    "test = pd.get_dummies(test, columns=['Sex', 'Embarked'])"
   ]
  },
  {
   "cell_type": "code",
   "execution_count": 214,
   "metadata": {},
   "outputs": [
    {
     "data": {
      "text/html": [
       "<div>\n",
       "<style>\n",
       "    .dataframe thead tr:only-child th {\n",
       "        text-align: right;\n",
       "    }\n",
       "\n",
       "    .dataframe thead th {\n",
       "        text-align: left;\n",
       "    }\n",
       "\n",
       "    .dataframe tbody tr th {\n",
       "        vertical-align: top;\n",
       "    }\n",
       "</style>\n",
       "<table border=\"1\" class=\"dataframe\">\n",
       "  <thead>\n",
       "    <tr style=\"text-align: right;\">\n",
       "      <th></th>\n",
       "      <th>Survived</th>\n",
       "      <th>Pclass</th>\n",
       "      <th>Age</th>\n",
       "      <th>SibSp</th>\n",
       "      <th>Parch</th>\n",
       "      <th>Fare</th>\n",
       "      <th>Sex_female</th>\n",
       "      <th>Sex_male</th>\n",
       "      <th>Embarked_C</th>\n",
       "      <th>Embarked_Q</th>\n",
       "      <th>Embarked_S</th>\n",
       "    </tr>\n",
       "  </thead>\n",
       "  <tbody>\n",
       "    <tr>\n",
       "      <th>0</th>\n",
       "      <td>0</td>\n",
       "      <td>3</td>\n",
       "      <td>22.0</td>\n",
       "      <td>1</td>\n",
       "      <td>0</td>\n",
       "      <td>7.2500</td>\n",
       "      <td>0</td>\n",
       "      <td>1</td>\n",
       "      <td>0</td>\n",
       "      <td>0</td>\n",
       "      <td>1</td>\n",
       "    </tr>\n",
       "    <tr>\n",
       "      <th>1</th>\n",
       "      <td>1</td>\n",
       "      <td>1</td>\n",
       "      <td>38.0</td>\n",
       "      <td>1</td>\n",
       "      <td>0</td>\n",
       "      <td>71.2833</td>\n",
       "      <td>1</td>\n",
       "      <td>0</td>\n",
       "      <td>1</td>\n",
       "      <td>0</td>\n",
       "      <td>0</td>\n",
       "    </tr>\n",
       "    <tr>\n",
       "      <th>2</th>\n",
       "      <td>1</td>\n",
       "      <td>3</td>\n",
       "      <td>26.0</td>\n",
       "      <td>0</td>\n",
       "      <td>0</td>\n",
       "      <td>7.9250</td>\n",
       "      <td>1</td>\n",
       "      <td>0</td>\n",
       "      <td>0</td>\n",
       "      <td>0</td>\n",
       "      <td>1</td>\n",
       "    </tr>\n",
       "    <tr>\n",
       "      <th>3</th>\n",
       "      <td>1</td>\n",
       "      <td>1</td>\n",
       "      <td>35.0</td>\n",
       "      <td>1</td>\n",
       "      <td>0</td>\n",
       "      <td>53.1000</td>\n",
       "      <td>1</td>\n",
       "      <td>0</td>\n",
       "      <td>0</td>\n",
       "      <td>0</td>\n",
       "      <td>1</td>\n",
       "    </tr>\n",
       "    <tr>\n",
       "      <th>4</th>\n",
       "      <td>0</td>\n",
       "      <td>3</td>\n",
       "      <td>35.0</td>\n",
       "      <td>0</td>\n",
       "      <td>0</td>\n",
       "      <td>8.0500</td>\n",
       "      <td>0</td>\n",
       "      <td>1</td>\n",
       "      <td>0</td>\n",
       "      <td>0</td>\n",
       "      <td>1</td>\n",
       "    </tr>\n",
       "  </tbody>\n",
       "</table>\n",
       "</div>"
      ],
      "text/plain": [
       "   Survived  Pclass   Age  SibSp  Parch     Fare  Sex_female  Sex_male  Embarked_C  Embarked_Q  Embarked_S\n",
       "0         0       3  22.0      1      0   7.2500           0         1           0           0           1\n",
       "1         1       1  38.0      1      0  71.2833           1         0           1           0           0\n",
       "2         1       3  26.0      0      0   7.9250           1         0           0           0           1\n",
       "3         1       1  35.0      1      0  53.1000           1         0           0           0           1\n",
       "4         0       3  35.0      0      0   8.0500           0         1           0           0           1"
      ]
     },
     "execution_count": 214,
     "metadata": {},
     "output_type": "execute_result"
    }
   ],
   "source": [
    "train = df.drop(axis=1, inplace=False, labels=[\"PassengerId\", \"Name\", \"Ticket\"])\n",
    "train.head()"
   ]
  },
  {
   "cell_type": "code",
   "execution_count": 215,
   "metadata": {
    "collapsed": true
   },
   "outputs": [],
   "source": [
    "test = test.drop(axis=1, inplace=False, labels = [\"PassengerId\", \"Name\", \"Ticket\"])"
   ]
  },
  {
   "cell_type": "code",
   "execution_count": 216,
   "metadata": {
    "collapsed": true
   },
   "outputs": [],
   "source": [
    "from sklearn.model_selection import GridSearchCV\n",
    "from sklearn.model_selection import train_test_split\n",
    "from sklearn.metrics import confusion_matrix\n",
    "from sklearn.naive_bayes import GaussianNB\n",
    "from sklearn.linear_model import LogisticRegression\n",
    "from sklearn.ensemble import RandomForestClassifier"
   ]
  },
  {
   "cell_type": "code",
   "execution_count": 217,
   "metadata": {
    "collapsed": true
   },
   "outputs": [],
   "source": [
    "def cv_optimizer(model, parameters, X, y, n_jobs=1, n_folds=5, score_func = None):\n",
    "    if score_func:\n",
    "        gs = GridSearchCV(model, param_grid=parameters, cv= n_folds, n_jobs=n_jobs, scoring=score_func)\n",
    "    else:\n",
    "        gs = GridSearchCV(model, param_grid=parameters, cv = n_folds, n_jobs=n_jobs)\n",
    "    gs.fit(X,y)\n",
    "    print(\"Best parameter:\", gs.best_params_,\"\\nBest Score:\", gs.best_score_) # use gs.cv_results_ for elaborate results\n",
    "    best = gs.best_estimator_\n",
    "    return best"
   ]
  },
  {
   "cell_type": "code",
   "execution_count": 218,
   "metadata": {
    "collapsed": true
   },
   "outputs": [],
   "source": [
    "def do_classify(model, parameters, indf, featurenames, targetname, target1val, mask = None, reuse_split = None, score_func=None, n_folds=5, n_jobs=1):\n",
    "    X = indf[featurenames].values\n",
    "    y = (indf[targetname].values == target1val)*1\n",
    "    try:\n",
    "        if (mask!= None).all():\n",
    "            print(\"using mask\")\n",
    "            Xtrain, Xtest, ytrain, ytest = X[mask], X[~mask], y[mask], y[~mask]\n",
    "    except:\n",
    "        pass\n",
    "    if reuse_split != None:\n",
    "        Xtrain, Xtest, ytrain, ytest = reuse_split['Xtrain'], reuse_split['Xtest'], reuse_split['ytrain'], reuse_split['ytest']\n",
    "    if parameters:\n",
    "        model = cv_optimizer(model, parameters, Xtrain, ytrain, n_jobs, n_folds, score_func)\n",
    "    model.fit(Xtrain, ytrain)\n",
    "    training_accuracy = model.score(Xtrain, ytrain)\n",
    "    testing_accuracy = model.score(Xtest, ytest)\n",
    "    print(\"########### Based on Standard Predict ###########\")\n",
    "    print(\"Accuracy on training data: {:0.2f}\".format(training_accuracy))\n",
    "    print(\"Accuracy on testing data: {:0.2f}\".format(testing_accuracy))\n",
    "    print(confusion_matrix(ytest, model.predict(Xtest)))\n",
    "    print(\"#################################################\")\n",
    "    return model, Xtrain, Xtest, ytrain, ytest\n",
    "    "
   ]
  },
  {
   "cell_type": "code",
   "execution_count": 219,
   "metadata": {},
   "outputs": [
    {
     "name": "stderr",
     "output_type": "stream",
     "text": [
      "C:\\Users\\Sukant\\Anaconda3\\lib\\site-packages\\sklearn\\model_selection\\_split.py:2026: FutureWarning: From version 0.21, test_size will always complement train_size unless both are specified.\n",
      "  FutureWarning)\n"
     ]
    },
    {
     "data": {
      "text/plain": [
       "array([ True,  True,  True,  True,  True,  True,  True,  True,  True, False], dtype=bool)"
      ]
     },
     "execution_count": 219,
     "metadata": {},
     "output_type": "execute_result"
    }
   ],
   "source": [
    "itrain, itest = train_test_split(range(train.shape[0]), train_size =0.6)\n",
    "mask = np.ones(df.shape[0], dtype = 'int')\n",
    "mask[itrain] = 1\n",
    "mask[itest] = 0\n",
    "mask = (mask==1)\n",
    "mask[:10]"
   ]
  },
  {
   "cell_type": "code",
   "execution_count": 276,
   "metadata": {},
   "outputs": [
    {
     "data": {
      "text/plain": [
       "['Pclass',\n",
       " 'Age',\n",
       " 'SibSp',\n",
       " 'Parch',\n",
       " 'Fare',\n",
       " 'Sex_female',\n",
       " 'Sex_male',\n",
       " 'Embarked_C',\n",
       " 'Embarked_Q',\n",
       " 'Embarked_S']"
      ]
     },
     "execution_count": 276,
     "metadata": {},
     "output_type": "execute_result"
    }
   ],
   "source": [
    "features = list(train.columns.values)[1:]\n",
    "features"
   ]
  },
  {
   "cell_type": "code",
   "execution_count": 313,
   "metadata": {},
   "outputs": [
    {
     "name": "stdout",
     "output_type": "stream",
     "text": [
      "using mask\n",
      "Best parameter: {'C': 10} \n",
      "Best Score: 0.795880149813\n",
      "########### Based on Standard Predict ###########\n",
      "Accuracy on training data: 0.81\n",
      "Accuracy on testing data: 0.79\n",
      "[[183  34]\n",
      " [ 40 100]]\n",
      "#################################################\n"
     ]
    }
   ],
   "source": [
    "clflog = LogisticRegression()\n",
    "parameters = {'C':[0.001, 0.01, 0.1, 1, 10, 100, 1000, 10000]}\n",
    "clflog, Xtrain, Xtest, ytrain, ytest = do_classify(clflog, parameters, train,features, 'Survived', 1, mask=mask)"
   ]
  },
  {
   "cell_type": "code",
   "execution_count": 314,
   "metadata": {},
   "outputs": [
    {
     "data": {
      "text/plain": [
       "0.79271708683473385"
      ]
     },
     "execution_count": 314,
     "metadata": {},
     "output_type": "execute_result"
    }
   ],
   "source": [
    "clflog.score(X=Xtest, y=ytest)"
   ]
  },
  {
   "cell_type": "code",
   "execution_count": 315,
   "metadata": {},
   "outputs": [
    {
     "data": {
      "text/plain": [
       "array([[ 0.06939239,  0.93060761],\n",
       "       [ 0.90102039,  0.09897961],\n",
       "       [ 0.9119996 ,  0.0880004 ],\n",
       "       [ 0.53969421,  0.46030579],\n",
       "       [ 0.82605883,  0.17394117],\n",
       "       [ 0.25273006,  0.74726994],\n",
       "       [ 0.45890236,  0.54109764],\n",
       "       [ 0.64444992,  0.35555008],\n",
       "       [ 0.91362683,  0.08637317],\n",
       "       [ 0.41727512,  0.58272488],\n",
       "       [ 0.9404195 ,  0.0595805 ],\n",
       "       [ 0.3818978 ,  0.6181022 ],\n",
       "       [ 0.72808909,  0.27191091],\n",
       "       [ 0.90431765,  0.09568235],\n",
       "       [ 0.23737169,  0.76262831],\n",
       "       [ 0.80498612,  0.19501388],\n",
       "       [ 0.91362683,  0.08637317],\n",
       "       [ 0.91066465,  0.08933535],\n",
       "       [ 0.32162597,  0.67837403],\n",
       "       [ 0.88324019,  0.11675981],\n",
       "       [ 0.41852911,  0.58147089],\n",
       "       [ 0.07881647,  0.92118353],\n",
       "       [ 0.25122718,  0.74877282],\n",
       "       [ 0.63134846,  0.36865154],\n",
       "       [ 0.83014452,  0.16985548],\n",
       "       [ 0.96276073,  0.03723927],\n",
       "       [ 0.79293176,  0.20706824],\n",
       "       [ 0.28201389,  0.71798611],\n",
       "       [ 0.19862029,  0.80137971],\n",
       "       [ 0.95432855,  0.04567145],\n",
       "       [ 0.74460124,  0.25539876],\n",
       "       [ 0.85762248,  0.14237752],\n",
       "       [ 0.93456399,  0.06543601],\n",
       "       [ 0.91654304,  0.08345696],\n",
       "       [ 0.91362683,  0.08637317],\n",
       "       [ 0.45480294,  0.54519706],\n",
       "       [ 0.90751634,  0.09248366],\n",
       "       [ 0.32162597,  0.67837403],\n",
       "       [ 0.89681378,  0.10318622],\n",
       "       [ 0.91362683,  0.08637317],\n",
       "       [ 0.2614645 ,  0.7385355 ],\n",
       "       [ 0.21863819,  0.78136181],\n",
       "       [ 0.45699517,  0.54300483],\n",
       "       [ 0.92476174,  0.07523826],\n",
       "       [ 0.91362683,  0.08637317],\n",
       "       [ 0.16656084,  0.83343916],\n",
       "       [ 0.97733903,  0.02266097],\n",
       "       [ 0.46171485,  0.53828515],\n",
       "       [ 0.8423405 ,  0.1576595 ],\n",
       "       [ 0.91362683,  0.08637317],\n",
       "       [ 0.91362683,  0.08637317],\n",
       "       [ 0.95878772,  0.04121228],\n",
       "       [ 0.68127473,  0.31872527],\n",
       "       [ 0.77209062,  0.22790938],\n",
       "       [ 0.28201389,  0.71798611],\n",
       "       [ 0.18540347,  0.81459653],\n",
       "       [ 0.38188729,  0.61811271],\n",
       "       [ 0.86191075,  0.13808925],\n",
       "       [ 0.82040485,  0.17959515],\n",
       "       [ 0.07371801,  0.92628199],\n",
       "       [ 0.94507772,  0.05492228],\n",
       "       [ 0.92982093,  0.07017907],\n",
       "       [ 0.99051913,  0.00948087],\n",
       "       [ 0.95448182,  0.04551818],\n",
       "       [ 0.89051532,  0.10948468],\n",
       "       [ 0.84064908,  0.15935092],\n",
       "       [ 0.92476174,  0.07523826],\n",
       "       [ 0.90431765,  0.09568235],\n",
       "       [ 0.91451606,  0.08548394],\n",
       "       [ 0.06157965,  0.93842035],\n",
       "       [ 0.86803876,  0.13196124],\n",
       "       [ 0.3909198 ,  0.6090802 ],\n",
       "       [ 0.94316766,  0.05683234],\n",
       "       [ 0.21715189,  0.78284811],\n",
       "       [ 0.42769012,  0.57230988],\n",
       "       [ 0.04978081,  0.95021919],\n",
       "       [ 0.92476174,  0.07523826],\n",
       "       [ 0.93900752,  0.06099248],\n",
       "       [ 0.89412141,  0.10587859],\n",
       "       [ 0.25988396,  0.74011604],\n",
       "       [ 0.90751634,  0.09248366],\n",
       "       [ 0.80342151,  0.19657849],\n",
       "       [ 0.91066465,  0.08933535],\n",
       "       [ 0.89669899,  0.10330101],\n",
       "       [ 0.80342151,  0.19657849],\n",
       "       [ 0.78502931,  0.21497069],\n",
       "       [ 0.69737267,  0.30262733],\n",
       "       [ 0.73006594,  0.26993406],\n",
       "       [ 0.90268148,  0.09731852],\n",
       "       [ 0.72260583,  0.27739417],\n",
       "       [ 0.9238798 ,  0.0761202 ],\n",
       "       [ 0.39975651,  0.60024349],\n",
       "       [ 0.79742619,  0.20257381],\n",
       "       [ 0.73556565,  0.26443435],\n",
       "       [ 0.91362683,  0.08637317],\n",
       "       [ 0.50442541,  0.49557459],\n",
       "       [ 0.52470224,  0.47529776],\n",
       "       [ 0.03602479,  0.96397521],\n",
       "       [ 0.33780403,  0.66219597],\n",
       "       [ 0.7848121 ,  0.2151879 ],\n",
       "       [ 0.32162597,  0.67837403],\n",
       "       [ 0.96096903,  0.03903097],\n",
       "       [ 0.93697587,  0.06302413],\n",
       "       [ 0.17523689,  0.82476311],\n",
       "       [ 0.91654304,  0.08345696],\n",
       "       [ 0.32162597,  0.67837403],\n",
       "       [ 0.27049994,  0.72950006],\n",
       "       [ 0.59428513,  0.40571487],\n",
       "       [ 0.56042789,  0.43957211],\n",
       "       [ 0.89762237,  0.10237763],\n",
       "       [ 0.92982093,  0.07017907],\n",
       "       [ 0.90751634,  0.09248366],\n",
       "       [ 0.06394431,  0.93605569],\n",
       "       [ 0.0270007 ,  0.9729993 ],\n",
       "       [ 0.28201389,  0.71798611],\n",
       "       [ 0.0318523 ,  0.9681477 ],\n",
       "       [ 0.50162423,  0.49837577],\n",
       "       [ 0.12759043,  0.87240957],\n",
       "       [ 0.91362683,  0.08637317],\n",
       "       [ 0.03004591,  0.96995409],\n",
       "       [ 0.02413364,  0.97586636],\n",
       "       [ 0.03071286,  0.96928714],\n",
       "       [ 0.21908264,  0.78091736],\n",
       "       [ 0.90751634,  0.09248366],\n",
       "       [ 0.24375339,  0.75624661],\n",
       "       [ 0.46491139,  0.53508861],\n",
       "       [ 0.93488124,  0.06511876],\n",
       "       [ 0.07901064,  0.92098936],\n",
       "       [ 0.91362683,  0.08637317],\n",
       "       [ 0.62175943,  0.37824057],\n",
       "       [ 0.04471667,  0.95528333],\n",
       "       [ 0.12101748,  0.87898252],\n",
       "       [ 0.79129551,  0.20870449],\n",
       "       [ 0.77209062,  0.22790938],\n",
       "       [ 0.17042703,  0.82957297],\n",
       "       [ 0.91061867,  0.08938133],\n",
       "       [ 0.50162423,  0.49837577],\n",
       "       [ 0.78859502,  0.21140498],\n",
       "       [ 0.93697587,  0.06302413],\n",
       "       [ 0.80498612,  0.19501388],\n",
       "       [ 0.05214677,  0.94785323],\n",
       "       [ 0.32162597,  0.67837403],\n",
       "       [ 0.67527823,  0.32472177],\n",
       "       [ 0.91066465,  0.08933535],\n",
       "       [ 0.11448995,  0.88551005],\n",
       "       [ 0.20628421,  0.79371579],\n",
       "       [ 0.02413364,  0.97586636],\n",
       "       [ 0.35569488,  0.64430512],\n",
       "       [ 0.26706608,  0.73293392],\n",
       "       [ 0.03239384,  0.96760616],\n",
       "       [ 0.89762237,  0.10237763],\n",
       "       [ 0.04634764,  0.95365236],\n",
       "       [ 0.93456399,  0.06543601],\n",
       "       [ 0.94670339,  0.05329661],\n",
       "       [ 0.24375339,  0.75624661],\n",
       "       [ 0.88276881,  0.11723119],\n",
       "       [ 0.90751634,  0.09248366],\n",
       "       [ 0.46412418,  0.53587582],\n",
       "       [ 0.75861263,  0.24138737],\n",
       "       [ 0.94891057,  0.05108943],\n",
       "       [ 0.86539143,  0.13460857],\n",
       "       [ 0.96682209,  0.03317791],\n",
       "       [ 0.88276881,  0.11723119],\n",
       "       [ 0.0788627 ,  0.9211373 ],\n",
       "       [ 0.76541875,  0.23458125],\n",
       "       [ 0.39975651,  0.60024349],\n",
       "       [ 0.25642629,  0.74357371],\n",
       "       [ 0.87060482,  0.12939518],\n",
       "       [ 0.91362683,  0.08637317],\n",
       "       [ 0.24423294,  0.75576706],\n",
       "       [ 0.14550903,  0.85449097],\n",
       "       [ 0.53907716,  0.46092284],\n",
       "       [ 0.04908451,  0.95091549],\n",
       "       [ 0.4884915 ,  0.5115085 ],\n",
       "       [ 0.80928184,  0.19071816],\n",
       "       [ 0.91362683,  0.08637317],\n",
       "       [ 0.29383166,  0.70616834],\n",
       "       [ 0.11286463,  0.88713537],\n",
       "       [ 0.59431313,  0.40568687],\n",
       "       [ 0.85853661,  0.14146339],\n",
       "       [ 0.82423979,  0.17576021],\n",
       "       [ 0.71244399,  0.28755601],\n",
       "       [ 0.93900752,  0.06099248],\n",
       "       [ 0.70469386,  0.29530614],\n",
       "       [ 0.76986443,  0.23013557],\n",
       "       [ 0.15699913,  0.84300087],\n",
       "       [ 0.94706004,  0.05293996],\n",
       "       [ 0.07168248,  0.92831752],\n",
       "       [ 0.21441001,  0.78558999],\n",
       "       [ 0.96559682,  0.03440318],\n",
       "       [ 0.74217397,  0.25782603],\n",
       "       [ 0.58458413,  0.41541587],\n",
       "       [ 0.88414395,  0.11585605],\n",
       "       [ 0.9347228 ,  0.0652772 ],\n",
       "       [ 0.76314738,  0.23685262],\n",
       "       [ 0.80498612,  0.19501388],\n",
       "       [ 0.91362683,  0.08637317],\n",
       "       [ 0.91362683,  0.08637317],\n",
       "       [ 0.89051532,  0.10948468],\n",
       "       [ 0.20141132,  0.79858868],\n",
       "       [ 0.91936947,  0.08063053],\n",
       "       [ 0.61227621,  0.38772379],\n",
       "       [ 0.09356411,  0.90643589],\n",
       "       [ 0.91362683,  0.08637317],\n",
       "       [ 0.23018337,  0.76981663],\n",
       "       [ 0.90751634,  0.09248366],\n",
       "       [ 0.04673466,  0.95326534],\n",
       "       [ 0.35280056,  0.64719944],\n",
       "       [ 0.50162423,  0.49837577],\n",
       "       [ 0.94891057,  0.05108943],\n",
       "       [ 0.18540347,  0.81459653],\n",
       "       [ 0.45480294,  0.54519706],\n",
       "       [ 0.03004591,  0.96995409],\n",
       "       [ 0.91362683,  0.08637317],\n",
       "       [ 0.01969551,  0.98030449],\n",
       "       [ 0.54595842,  0.45404158],\n",
       "       [ 0.85640484,  0.14359516],\n",
       "       [ 0.58521533,  0.41478467],\n",
       "       [ 0.18733724,  0.81266276],\n",
       "       [ 0.69394217,  0.30605783],\n",
       "       [ 0.20917403,  0.79082597],\n",
       "       [ 0.78502931,  0.21497069],\n",
       "       [ 0.28201389,  0.71798611],\n",
       "       [ 0.12355167,  0.87644833],\n",
       "       [ 0.58583545,  0.41416455],\n",
       "       [ 0.88276881,  0.11723119],\n",
       "       [ 0.95069977,  0.04930023],\n",
       "       [ 0.79129551,  0.20870449],\n",
       "       [ 0.38126277,  0.61873723],\n",
       "       [ 0.25644026,  0.74355974],\n",
       "       [ 0.32162597,  0.67837403],\n",
       "       [ 0.88680197,  0.11319803],\n",
       "       [ 0.89762237,  0.10237763],\n",
       "       [ 0.13091709,  0.86908291],\n",
       "       [ 0.38128431,  0.61871569],\n",
       "       [ 0.80498612,  0.19501388],\n",
       "       [ 0.04242718,  0.95757282],\n",
       "       [ 0.94112202,  0.05887798],\n",
       "       [ 0.29338556,  0.70661444],\n",
       "       [ 0.95459463,  0.04540537],\n",
       "       [ 0.80498612,  0.19501388],\n",
       "       [ 0.26052842,  0.73947158],\n",
       "       [ 0.37247039,  0.62752961],\n",
       "       [ 0.95738505,  0.04261495],\n",
       "       [ 0.92982093,  0.07017907],\n",
       "       [ 0.08102611,  0.91897389],\n",
       "       [ 0.10356712,  0.89643288],\n",
       "       [ 0.53187021,  0.46812979],\n",
       "       [ 0.91362683,  0.08637317],\n",
       "       [ 0.3909198 ,  0.6090802 ],\n",
       "       [ 0.94112202,  0.05887798],\n",
       "       [ 0.14259775,  0.85740225],\n",
       "       [ 0.88907951,  0.11092049],\n",
       "       [ 0.05358935,  0.94641065],\n",
       "       [ 0.96682209,  0.03317791],\n",
       "       [ 0.34655164,  0.65344836],\n",
       "       [ 0.90102039,  0.09897961],\n",
       "       [ 0.5668854 ,  0.4331146 ],\n",
       "       [ 0.89762237,  0.10237763],\n",
       "       [ 0.91362683,  0.08637317],\n",
       "       [ 0.39078528,  0.60921472],\n",
       "       [ 0.85672425,  0.14327575],\n",
       "       [ 0.55204397,  0.44795603],\n",
       "       [ 0.83034484,  0.16965516],\n",
       "       [ 0.92494243,  0.07505757],\n",
       "       [ 0.95571729,  0.04428271],\n",
       "       [ 0.80928184,  0.19071816],\n",
       "       [ 0.76541875,  0.23458125],\n",
       "       [ 0.91509629,  0.08490371],\n",
       "       [ 0.32162597,  0.67837403],\n",
       "       [ 0.96659388,  0.03340612],\n",
       "       [ 0.61048158,  0.38951842],\n",
       "       [ 0.89762237,  0.10237763],\n",
       "       [ 0.04058727,  0.95941273],\n",
       "       [ 0.63924492,  0.36075508],\n",
       "       [ 0.91362683,  0.08637317],\n",
       "       [ 0.95727885,  0.04272115],\n",
       "       [ 0.32162597,  0.67837403],\n",
       "       [ 0.55979832,  0.44020168],\n",
       "       [ 0.6033295 ,  0.3966705 ],\n",
       "       [ 0.16259964,  0.83740036],\n",
       "       [ 0.93915625,  0.06084375],\n",
       "       [ 0.77032472,  0.22967528],\n",
       "       [ 0.08911103,  0.91088897],\n",
       "       [ 0.82605883,  0.17394117],\n",
       "       [ 0.82098215,  0.17901785],\n",
       "       [ 0.71704043,  0.28295957],\n",
       "       [ 0.75861263,  0.24138737],\n",
       "       [ 0.37247039,  0.62752961],\n",
       "       [ 0.91362683,  0.08637317],\n",
       "       [ 0.68129995,  0.31870005],\n",
       "       [ 0.03424793,  0.96575207],\n",
       "       [ 0.9347228 ,  0.0652772 ],\n",
       "       [ 0.20466203,  0.79533797],\n",
       "       [ 0.90734542,  0.09265458],\n",
       "       [ 0.08159032,  0.91840968],\n",
       "       [ 0.91362683,  0.08637317],\n",
       "       [ 0.78033561,  0.21966439],\n",
       "       [ 0.91066465,  0.08933535],\n",
       "       [ 0.93456399,  0.06543601],\n",
       "       [ 0.91362683,  0.08637317],\n",
       "       [ 0.96301412,  0.03698588],\n",
       "       [ 0.80498612,  0.19501388],\n",
       "       [ 0.4127059 ,  0.5872941 ],\n",
       "       [ 0.89412141,  0.10587859],\n",
       "       [ 0.24608501,  0.75391499],\n",
       "       [ 0.88276881,  0.11723119],\n",
       "       [ 0.10794084,  0.89205916],\n",
       "       [ 0.14674887,  0.85325113],\n",
       "       [ 0.54838829,  0.45161171],\n",
       "       [ 0.91654304,  0.08345696],\n",
       "       [ 0.34713051,  0.65286949],\n",
       "       [ 0.84099703,  0.15900297],\n",
       "       [ 0.47283359,  0.52716641],\n",
       "       [ 0.88276881,  0.11723119],\n",
       "       [ 0.91654304,  0.08345696],\n",
       "       [ 0.13938486,  0.86061514],\n",
       "       [ 0.42280839,  0.57719161],\n",
       "       [ 0.92210832,  0.07789168],\n",
       "       [ 0.93223093,  0.06776907],\n",
       "       [ 0.10735279,  0.89264721],\n",
       "       [ 0.39078528,  0.60921472],\n",
       "       [ 0.67718775,  0.32281225],\n",
       "       [ 0.18674629,  0.81325371],\n",
       "       [ 0.92210832,  0.07789168],\n",
       "       [ 0.62993917,  0.37006083],\n",
       "       [ 0.410905  ,  0.589095  ],\n",
       "       [ 0.88276881,  0.11723119],\n",
       "       [ 0.20062324,  0.79937676],\n",
       "       [ 0.91061867,  0.08938133],\n",
       "       [ 0.89412141,  0.10587859],\n",
       "       [ 0.90431765,  0.09568235],\n",
       "       [ 0.70731079,  0.29268921],\n",
       "       [ 0.03004591,  0.96995409],\n",
       "       [ 0.85958513,  0.14041487],\n",
       "       [ 0.78012727,  0.21987273],\n",
       "       [ 0.93624619,  0.06375381],\n",
       "       [ 0.98573227,  0.01426773],\n",
       "       [ 0.37073002,  0.62926998],\n",
       "       [ 0.15007389,  0.84992611],\n",
       "       [ 0.80498612,  0.19501388],\n",
       "       [ 0.97346833,  0.02653167],\n",
       "       [ 0.13494319,  0.86505681],\n",
       "       [ 0.76541875,  0.23458125],\n",
       "       [ 0.28761129,  0.71238871],\n",
       "       [ 0.91362683,  0.08637317],\n",
       "       [ 0.86349272,  0.13650728],\n",
       "       [ 0.91936947,  0.08063053],\n",
       "       [ 0.15990218,  0.84009782],\n",
       "       [ 0.58523271,  0.41476729],\n",
       "       [ 0.9616538 ,  0.0383462 ],\n",
       "       [ 0.1119872 ,  0.8880128 ],\n",
       "       [ 0.90102039,  0.09897961],\n",
       "       [ 0.89762237,  0.10237763],\n",
       "       [ 0.91362683,  0.08637317],\n",
       "       [ 0.38188729,  0.61811271],\n",
       "       [ 0.44119693,  0.55880307]])"
      ]
     },
     "execution_count": 315,
     "metadata": {},
     "output_type": "execute_result"
    }
   ],
   "source": [
    "clflog.predict_proba(Xtest)"
   ]
  },
  {
   "cell_type": "code",
   "execution_count": 316,
   "metadata": {},
   "outputs": [
    {
     "data": {
      "image/png": "[encoded data removed]",
      "text/plain": [
       "<matplotlib.figure.Figure at 0x180612e4550>"
      ]
     },
     "metadata": {},
     "output_type": "display_data"
    }
   ],
   "source": [
    "plt.hist(clflog.predict_proba(Xtest)[:,1]*100);"
   ]
  },
  {
   "cell_type": "code",
   "execution_count": 317,
   "metadata": {
    "collapsed": true
   },
   "outputs": [],
   "source": [
    "reuse_split = dict(Xtrain = Xtrain, ytrain = ytrain, Xtest = Xtest, ytest = ytest)"
   ]
  },
  {
   "cell_type": "code",
   "execution_count": 318,
   "metadata": {},
   "outputs": [
    {
     "name": "stdout",
     "output_type": "stream",
     "text": [
      "########### Based on Standard Predict ###########\n",
      "Accuracy on training data: 0.81\n",
      "Accuracy on testing data: 0.79\n",
      "[[183  34]\n",
      " [ 40 100]]\n",
      "#################################################\n"
     ]
    }
   ],
   "source": [
    "clfgnb = GaussianNB()\n",
    "clfgnb, Xtrain, Xtest, ytrain, ytest = do_classify(clflog, None, train,features, 'Survived', 1, reuse_split=reuse_split)"
   ]
  },
  {
   "cell_type": "code",
   "execution_count": 319,
   "metadata": {},
   "outputs": [
    {
     "data": {
      "image/png": "[encoded data removed]",
      "text/plain": [
       "<matplotlib.figure.Figure at 0x180633b3ef0>"
      ]
     },
     "metadata": {},
     "output_type": "display_data"
    }
   ],
   "source": [
    "plt.hist(clfgnb.predict_proba(Xtest)[:,1]*100);"
   ]
  },
  {
   "cell_type": "code",
   "execution_count": 320,
   "metadata": {},
   "outputs": [
    {
     "name": "stdout",
     "output_type": "stream",
     "text": [
      "Best parameter: {'C': 0.01} \n",
      "Best Score: 0.795880149813\n",
      "########### Based on Standard Predict ###########\n",
      "Accuracy on training data: 0.79\n",
      "Accuracy on testing data: 0.80\n",
      "[[188  29]\n",
      " [ 44  96]]\n",
      "#################################################\n"
     ]
    }
   ],
   "source": [
    "from sklearn.svm  import SVC\n",
    "clfsvm = SVC(kernel = \"linear\")\n",
    "parameters = {\"C\": [0.001, 0.01, 0.1, 1, 10, 100, 1000]}\n",
    "clfsvm, Xtrain, Xtest, ytrain, ytest = do_classify(clfsvm, parameters, train,features, 'Survived', 1, reuse_split=reuse_split)"
   ]
  },
  {
   "cell_type": "code",
   "execution_count": 321,
   "metadata": {
    "collapsed": true
   },
   "outputs": [],
   "source": [
    "from sklearn.metrics import classification_report"
   ]
  },
  {
   "cell_type": "code",
   "execution_count": 322,
   "metadata": {},
   "outputs": [
    {
     "name": "stdout",
     "output_type": "stream",
     "text": [
      "######## Logistic Regression Report #########\n",
      "             precision    recall  f1-score   support\n",
      "\n",
      "          0       0.82      0.84      0.83       217\n",
      "          1       0.75      0.71      0.73       140\n",
      "\n",
      "avg / total       0.79      0.79      0.79       357\n",
      "\n"
     ]
    }
   ],
   "source": [
    "print(\"######## Logistic Regression Report #########\")\n",
    "print(classification_report(ytest, clflog.predict(Xtest)))"
   ]
  },
  {
   "cell_type": "code",
   "execution_count": 323,
   "metadata": {},
   "outputs": [
    {
     "name": "stdout",
     "output_type": "stream",
     "text": [
      "######## Navie Bayes Regression Report #########\n",
      "             precision    recall  f1-score   support\n",
      "\n",
      "          0       0.82      0.84      0.83       217\n",
      "          1       0.75      0.71      0.73       140\n",
      "\n",
      "avg / total       0.79      0.79      0.79       357\n",
      "\n"
     ]
    }
   ],
   "source": [
    "print(\"######## Navie Bayes Regression Report #########\")\n",
    "print(classification_report(ytest, clfgnb.predict(Xtest)))"
   ]
  },
  {
   "cell_type": "code",
   "execution_count": 324,
   "metadata": {},
   "outputs": [
    {
     "name": "stdout",
     "output_type": "stream",
     "text": [
      "######## SVM Regression Report #########\n",
      "             precision    recall  f1-score   support\n",
      "\n",
      "          0       0.81      0.87      0.84       217\n",
      "          1       0.77      0.69      0.72       140\n",
      "\n",
      "avg / total       0.79      0.80      0.79       357\n",
      "\n"
     ]
    }
   ],
   "source": [
    "print(\"######## SVM Regression Report #########\")\n",
    "print(classification_report(ytest, clfsvm.predict(Xtest)))"
   ]
  },
  {
   "cell_type": "code",
   "execution_count": 325,
   "metadata": {
    "collapsed": true
   },
   "outputs": [],
   "source": [
    "from  sklearn.metrics import roc_curve, auc"
   ]
  },
  {
   "cell_type": "code",
   "execution_count": 326,
   "metadata": {},
   "outputs": [
    {
     "data": {
      "text/plain": [
       "(array([ 0.        ,  0.        ,  0.        ,  0.        ,  0.        ,\n",
       "         0.00460829,  0.00460829,  0.00921659,  0.00921659,  0.01843318,\n",
       "         0.01843318,  0.02304147,  0.02304147,  0.02764977,  0.02764977,\n",
       "         0.03225806,  0.03225806,  0.03225806,  0.03686636,  0.03686636,\n",
       "         0.04147465,  0.04147465,  0.05990783,  0.05990783,  0.06451613,\n",
       "         0.06451613,  0.07373272,  0.07373272,  0.07834101,  0.07834101,\n",
       "         0.0875576 ,  0.0921659 ,  0.09677419,  0.10138249,  0.10138249,\n",
       "         0.11059908,  0.11059908,  0.11981567,  0.11981567,  0.12442396,\n",
       "         0.12903226,  0.14746544,  0.14746544,  0.15668203,  0.16589862,\n",
       "         0.1797235 ,  0.1797235 ,  0.20276498,  0.20276498,  0.21658986,\n",
       "         0.21658986,  0.22119816,  0.22119816,  0.22580645,  0.22580645,\n",
       "         0.23963134,  0.23963134,  0.26267281,  0.26267281,  0.2718894 ,\n",
       "         0.2718894 ,  0.28571429,  0.28571429,  0.29032258,  0.29032258,\n",
       "         0.29493088,  0.30414747,  0.30875576,  0.32258065,  0.32718894,\n",
       "         0.32718894,  0.33640553,  0.34101382,  0.34101382,  0.34562212,\n",
       "         0.35483871,  0.359447  ,  0.36866359,  0.37788018,  0.38709677,\n",
       "         0.41935484,  0.42396313,  0.43778802,  0.44239631,  0.44700461,\n",
       "         0.44700461,  0.4516129 ,  0.4516129 ,  0.47465438,  0.47465438,\n",
       "         0.48847926,  0.51152074,  0.51612903,  0.51612903,  0.52534562,\n",
       "         0.53456221,  0.5437788 ,  0.55299539,  0.57603687,  0.58986175,\n",
       "         0.59447005,  0.60829493,  0.61290323,  0.640553  ,  0.64976959,\n",
       "         0.66820276,  0.67281106,  0.76497696,  0.77419355,  0.78801843,\n",
       "         0.79262673,  0.79262673,  0.79723502,  0.81105991,  0.81105991,\n",
       "         0.8202765 ,  0.82488479,  0.83410138,  0.84331797,  0.85253456,\n",
       "         0.85714286,  0.86635945,  0.87557604,  0.88479263,  0.90322581,\n",
       "         0.9078341 ,  0.97235023,  0.98156682,  1.        ]),\n",
       " array([ 0.00714286,  0.02142857,  0.02857143,  0.05      ,  0.05714286,\n",
       "         0.05714286,  0.14285714,  0.14285714,  0.35      ,  0.35      ,\n",
       "         0.36428571,  0.37142857,  0.45      ,  0.45      ,  0.45714286,\n",
       "         0.45714286,  0.47142857,  0.5       ,  0.5       ,  0.52857143,\n",
       "         0.52857143,  0.53571429,  0.53571429,  0.54285714,  0.54285714,\n",
       "         0.55      ,  0.59285714,  0.62857143,  0.62857143,  0.64285714,\n",
       "         0.64285714,  0.65      ,  0.65      ,  0.65714286,  0.67142857,\n",
       "         0.67142857,  0.68571429,  0.68571429,  0.7       ,  0.7       ,\n",
       "         0.70714286,  0.70714286,  0.71428571,  0.71428571,  0.72142857,\n",
       "         0.72142857,  0.72857143,  0.72857143,  0.74285714,  0.74285714,\n",
       "         0.75      ,  0.75      ,  0.76428571,  0.76428571,  0.77142857,\n",
       "         0.77142857,  0.77857143,  0.77857143,  0.79285714,  0.79285714,\n",
       "         0.8       ,  0.8       ,  0.80714286,  0.80714286,  0.81428571,\n",
       "         0.81428571,  0.81428571,  0.81428571,  0.81428571,  0.81428571,\n",
       "         0.82142857,  0.82142857,  0.82142857,  0.82857143,  0.82857143,\n",
       "         0.82857143,  0.82857143,  0.82857143,  0.82857143,  0.82857143,\n",
       "         0.82857143,  0.83571429,  0.83571429,  0.84285714,  0.84285714,\n",
       "         0.86428571,  0.86428571,  0.87142857,  0.87142857,  0.87857143,\n",
       "         0.87857143,  0.88571429,  0.88571429,  0.89285714,  0.89285714,\n",
       "         0.89285714,  0.9       ,  0.9       ,  0.90714286,  0.90714286,\n",
       "         0.90714286,  0.90714286,  0.90714286,  0.90714286,  0.90714286,\n",
       "         0.90714286,  0.90714286,  0.93571429,  0.93571429,  0.94285714,\n",
       "         0.95      ,  0.96428571,  0.96428571,  0.96428571,  0.97142857,\n",
       "         0.97857143,  0.97857143,  0.98571429,  0.98571429,  0.98571429,\n",
       "         0.99285714,  0.99285714,  0.99285714,  0.99285714,  0.99285714,\n",
       "         1.        ,  1.        ,  1.        ,  1.        ]),\n",
       " array([ 0.98030449,  0.97586636,  0.9729993 ,  0.96995409,  0.96928714,\n",
       "         0.9681477 ,  0.94641065,  0.93842035,  0.84009782,  0.83343916,\n",
       "         0.82476311,  0.81459653,  0.78136181,  0.78091736,  0.76981663,\n",
       "         0.76262831,  0.75624661,  0.74726994,  0.74357371,  0.7385355 ,\n",
       "         0.73293392,  0.72950006,  0.71798611,  0.71238871,  0.70661444,\n",
       "         0.70616834,  0.67837403,  0.64430512,  0.62926998,  0.62752961,\n",
       "         0.61871569,  0.61811271,  0.6181022 ,  0.60921472,  0.6090802 ,\n",
       "         0.60024349,  0.5872941 ,  0.58147089,  0.57230988,  0.55880307,\n",
       "         0.54519706,  0.53587582,  0.53508861,  0.5115085 ,  0.49837577,\n",
       "         0.46812979,  0.46092284,  0.44020168,  0.4331146 ,  0.41476729,\n",
       "         0.41416455,  0.40571487,  0.3966705 ,  0.38951842,  0.38772379,\n",
       "         0.36865154,  0.36075508,  0.31870005,  0.30262733,  0.29268921,\n",
       "         0.28755601,  0.27191091,  0.26993406,  0.26443435,  0.25782603,\n",
       "         0.25539876,  0.24138737,  0.23685262,  0.23458125,  0.23013557,\n",
       "         0.22967528,  0.22790938,  0.21987273,  0.21966439,  0.2151879 ,\n",
       "         0.21497069,  0.21140498,  0.20870449,  0.20257381,  0.19657849,\n",
       "         0.19501388,  0.19071816,  0.17576021,  0.17394117,  0.16985548,\n",
       "         0.15900297,  0.1576595 ,  0.14359516,  0.13808925,  0.13650728,\n",
       "         0.12939518,  0.11723119,  0.11675981,  0.11585605,  0.11092049,\n",
       "         0.10948468,  0.10587859,  0.10318622,  0.10237763,  0.09897961,\n",
       "         0.09731852,  0.09568235,  0.09265458,  0.09248366,  0.08938133,\n",
       "         0.08933535,  0.0880004 ,  0.08637317,  0.08490371,  0.08345696,\n",
       "         0.08063053,  0.07789168,  0.0761202 ,  0.07523826,  0.07505757,\n",
       "         0.07017907,  0.06776907,  0.06543601,  0.0652772 ,  0.06375381,\n",
       "         0.06302413,  0.06099248,  0.0595805 ,  0.05887798,  0.05293996,\n",
       "         0.05108943,  0.03340612,  0.03317791,  0.00948087]))"
      ]
     },
     "execution_count": 326,
     "metadata": {},
     "output_type": "execute_result"
    }
   ],
   "source": [
    "roc_curve(ytest, clflog.predict_proba(Xtest)[:,1])"
   ]
  },
  {
   "cell_type": "code",
   "execution_count": 327,
   "metadata": {
    "collapsed": true
   },
   "outputs": [],
   "source": [
    "def make_roc(name, clf, ytest, xtest, ax=None, labe=5, proba=True, skip=0):\n",
    "    initial=False\n",
    "    if not ax:\n",
    "        ax=plt.gca()\n",
    "        initial=True\n",
    "    if proba:\n",
    "        fpr, tpr, thresholds=roc_curve(ytest, clf.predict_proba(xtest)[:,1])\n",
    "    else:\n",
    "        fpr, tpr, thresholds=roc_curve(ytest, clf.decision_function(xtest))\n",
    "    roc_auc = auc(fpr, tpr)\n",
    "    if skip:\n",
    "        l=fpr.shape[0]\n",
    "        ax.plot(fpr[0:l:skip], tpr[0:l:skip], '.-', alpha=0.3, label='ROC curve for %s (area = %0.2f)' % (name, roc_auc))\n",
    "    else:\n",
    "        ax.plot(fpr, tpr, '.-', alpha=0.3, label='ROC curve for %s (area = %0.2f)' % (name, roc_auc))\n",
    "    label_kwargs = {}\n",
    "    label_kwargs['bbox'] = dict(\n",
    "        boxstyle='round,pad=0.3', alpha=0.2,\n",
    "    )\n",
    "    for k in range(0, fpr.shape[0],labe):\n",
    "        #from https://gist.github.com/podshumok/c1d1c9394335d86255b8\n",
    "        threshold = str(np.round(thresholds[k], 2))\n",
    "        ax.annotate(threshold, (fpr[k], tpr[k]), **label_kwargs)\n",
    "    if initial:\n",
    "        ax.plot([0, 1], [0, 1], 'k--')\n",
    "        ax.set_xlim([0.0, 1.0])\n",
    "        ax.set_ylim([0.0, 1.05])\n",
    "        ax.set_xlabel('False Positive Rate')\n",
    "        ax.set_ylabel('True Positive Rate')\n",
    "        ax.set_title('ROC')\n",
    "    ax.legend(loc=\"lower right\")\n",
    "    return ax"
   ]
  },
  {
   "cell_type": "code",
   "execution_count": 328,
   "metadata": {},
   "outputs": [
    {
     "data": {
      "text/plain": [
       "<matplotlib.axes._subplots.AxesSubplot at 0x1806186c1d0>"
      ]
     },
     "execution_count": 328,
     "metadata": {},
     "output_type": "execute_result"
    },
    {
     "data": {
      "image/png": "[encoded data removed]",
      "text/plain": [
       "<matplotlib.figure.Figure at 0x18061926438>"
      ]
     },
     "metadata": {},
     "output_type": "display_data"
    }
   ],
   "source": [
    "fig = plt.gcf()\n",
    "fig.set_size_inches(14, 8, forward=True)\n",
    "ax=make_roc(\"logistic\", clflog, ytest, Xtest, labe=10)\n",
    "make_roc(\"GNB\", clfgnb, ytest, Xtest, ax, labe=10)\n",
    "make_roc(\"SVM\", clfsvm, ytest, Xtest, ax, labe=10,proba=False)"
   ]
  },
  {
   "cell_type": "code",
   "execution_count": 329,
   "metadata": {},
   "outputs": [
    {
     "data": {
      "text/plain": [
       "numpy.ndarray"
      ]
     },
     "execution_count": 329,
     "metadata": {},
     "output_type": "execute_result"
    }
   ],
   "source": [
    "type(train.Survived.values)"
   ]
  },
  {
   "cell_type": "code",
   "execution_count": 330,
   "metadata": {},
   "outputs": [],
   "source": [
    "from sklearn import tree "
   ]
  },
  {
   "cell_type": "code",
   "execution_count": 331,
   "metadata": {},
   "outputs": [
    {
     "name": "stdout",
     "output_type": "stream",
     "text": [
      "Best parameter: {'max_depth': 4, 'min_samples_leaf': 1} \n",
      "Best Score: 0.822097378277\n",
      "########### Based on Standard Predict ###########\n",
      "Accuracy on training data: 0.84\n",
      "Accuracy on testing data: 0.81\n",
      "[[193  24]\n",
      " [ 45  95]]\n",
      "#################################################\n"
     ]
    }
   ],
   "source": [
    "clftree = tree.DecisionTreeClassifier()\n",
    "parameters_tree = {\"max_depth\" : [1,2,3,4,5,6,7], \"min_samples_leaf\":[1,2,3,4,5,6]}\n",
    "clftree, Xtrain, Xtest, ytrain, ytest = do_classify(clftree, parameters_tree, train,features, 'Survived', 1, reuse_split=reuse_split)"
   ]
  },
  {
   "cell_type": "code",
   "execution_count": 265,
   "metadata": {},
   "outputs": [],
   "source": [
    "from sklearn.ensemble import RandomForestClassifier"
   ]
  },
  {
   "cell_type": "code",
   "execution_count": 275,
   "metadata": {},
   "outputs": [
    {
     "data": {
      "text/plain": [
       "['Pclass',\n",
       " 'Age',\n",
       " 'SibSp',\n",
       " 'Parch',\n",
       " 'Sex_female',\n",
       " 'Sex_male',\n",
       " 'Embarked_C',\n",
       " 'Embarked_Q',\n",
       " 'Embarked_S']"
      ]
     },
     "execution_count": 275,
     "metadata": {},
     "output_type": "execute_result"
    }
   ],
   "source": [
    "features"
   ]
  },
  {
   "cell_type": "code",
   "execution_count": 277,
   "metadata": {
    "collapsed": true
   },
   "outputs": [],
   "source": [
    "features.remove(\"Fare\")"
   ]
  },
  {
   "cell_type": "code",
   "execution_count": 279,
   "metadata": {},
   "outputs": [
    {
     "name": "stdout",
     "output_type": "stream",
     "text": [
      "Best parameter: {'n_estimators': 40} \n",
      "Best Score: 0.812734082397\n",
      "########### Based on Standard Predict ###########\n",
      "Accuracy on training data: 0.99\n",
      "Accuracy on testing data: 0.78\n",
      "[[176  41]\n",
      " [ 36 104]]\n",
      "#################################################\n"
     ]
    }
   ],
   "source": [
    "\n",
    "clfForest = RandomForestClassifier()\n",
    "parameters_rf = {\"n_estimators\":}\n",
    "clfForest, Xtrain, Xtest, ytrain, ytest = do_classify(clfForest, parameters_rf, \n",
    "                                                    train, features, 'Survived', 1, n_jobs=2, reuse_split=reuse_split)"
   ]
  },
  {
   "cell_type": "code",
   "execution_count": 280,
   "metadata": {
    "collapsed": true
   },
   "outputs": [],
   "source": [
    "importance_list = clfForest.feature_importances_\n"
   ]
  },
  {
   "cell_type": "code",
   "execution_count": 306,
   "metadata": {},
   "outputs": [
    {
     "data": {
      "image/png": "[encoded data removed]",
      "text/plain": [
       "<matplotlib.figure.Figure at 0x1805f61f748>"
      ]
     },
     "metadata": {},
     "output_type": "display_data"
    }
   ],
   "source": [
    "importance_list, feature_list = zip(*sorted(zip(importance_list, features)))\n",
    "plt.barh(range(len(feature_list)), importance_list)\n",
    "plt.yticks(range(len(feature_list)), feature_list)\n",
    "plt.xlabel('Relative Importance in the Random Forest')\n",
    "plt.ylabel('Features')\n",
    "plt.title('Relative importance of Each Feature')\n",
    "plt.show()"
   ]
  },
  {
   "cell_type": "code",
   "execution_count": 307,
   "metadata": {},
   "outputs": [
    {
     "name": "stdout",
     "output_type": "stream",
     "text": [
      "Best parameter: {'n_estimators': 18} \n",
      "Best Score: 0.73696925074\n",
      "########### Based on Standard Predict ###########\n",
      "Accuracy on training data: 0.84\n",
      "Accuracy on testing data: 0.78\n",
      "[[176  41]\n",
      " [ 38 102]]\n",
      "#################################################\n"
     ]
    }
   ],
   "source": [
    "from sklearn.ensemble import AdaBoostClassifier\n",
    "\n",
    "clfAda = AdaBoostClassifier()\n",
    "\n",
    "parameters = {\"n_estimators\": range(10, 60)}\n",
    "clfAda, Xtrain, ytrain, Xtest, ytest = do_classify(clfAda, parameters, \n",
    "                                                       train, features, 'Survived', 1, reuse_split=reuse_split, \n",
    "                                                       n_jobs = 2, score_func='f1')\n"
   ]
  },
  {
   "cell_type": "code",
   "execution_count": 308,
   "metadata": {},
   "outputs": [
    {
     "name": "stdout",
     "output_type": "stream",
     "text": [
      "Best parameter: {'max_depth': 3, 'n_estimators': 33} \n",
      "Best Score: 0.739764489404\n",
      "########### Based on Standard Predict ###########\n",
      "Accuracy on training data: 0.88\n",
      "Accuracy on testing data: 0.80\n",
      "[[189  28]\n",
      " [ 43  97]]\n",
      "#################################################\n"
     ]
    }
   ],
   "source": [
    "from sklearn.ensemble import GradientBoostingClassifier\n",
    "\n",
    "clfGB = GradientBoostingClassifier()\n",
    "\n",
    "parameters = {\"n_estimators\": range(30, 60), \"max_depth\": [1, 2, 3, 4, 5]}\n",
    "clfGB, Xtrain, ytrain, Xtest, ytest = do_classify(clfGB, parameters, \n",
    "                                                       train, features, 'Survived', 1, reuse_split=reuse_split, \n",
    "                                                       n_jobs = 2, score_func='f1')"
   ]
  },
  {
   "cell_type": "code",
   "execution_count": 355,
   "metadata": {},
   "outputs": [
    {
     "data": {
      "text/plain": [
       "array([ 1, 11, 21])"
      ]
     },
     "execution_count": 355,
     "metadata": {},
     "output_type": "execute_result"
    }
   ],
   "source": [
    "np.arange(1,31,10)"
   ]
  },
  {
   "cell_type": "code",
   "execution_count": null,
   "metadata": {
    "collapsed": true
   },
   "outputs": [],
   "source": []
  }
 ],
 "metadata": {
  "kernelspec": {
   "display_name": "Python 3",
   "language": "python",
   "name": "python3"
  },
  "language_info": {
   "codemirror_mode": {
    "name": "ipython",
    "version": 3
   },
   "file_extension": ".py",
   "mimetype": "text/x-python",
   "name": "python",
   "nbconvert_exporter": "python",
   "pygments_lexer": "ipython3",
   "version": "3.6.3"
  }
 },
 "nbformat": 4,
 "nbformat_minor": 2
}
